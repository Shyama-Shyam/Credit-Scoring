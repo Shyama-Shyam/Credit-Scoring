{
  "metadata": {
    "kernelspec": {
      "language": "python",
      "display_name": "Python 3",
      "name": "python3"
    },
    "language_info": {
      "name": "python",
      "version": "3.7.12",
      "mimetype": "text/x-python",
      "codemirror_mode": {
        "name": "ipython",
        "version": 3
      },
      "pygments_lexer": "ipython3",
      "nbconvert_exporter": "python",
      "file_extension": ".py"
    },
    "colab": {
      "name": "optimized-models.ipynb",
      "provenance": [],
      "collapsed_sections": []
    },
    "accelerator": "TPU",
    "gpuClass": "standard"
  },
  "nbformat_minor": 0,
  "nbformat": 4,
  "cells": [
    {
      "cell_type": "code",
      "source": [
        "from google.colab import files\n",
        "files.upload()"
      ],
      "metadata": {
        "colab": {
          "resources": {
            "http://localhost:8080/nbextensions/google.colab/files.js": {
              "data": "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",
              "ok": true,
              "headers": [
                [
                  "content-type",
                  "application/javascript"
                ]
              ],
              "status": 200,
              "status_text": ""
            }
          },
          "base_uri": "https://localhost:8080/",
          "height": 91
        },
        "id": "jSMcWCVsCoTE",
        "outputId": "91427417-65b0-4b80-f3bf-cd37b923647a"
      },
      "execution_count": 1,
      "outputs": [
        {
          "output_type": "display_data",
          "data": {
            "text/plain": [
              "<IPython.core.display.HTML object>"
            ],
            "text/html": [
              "\n",
              "     <input type=\"file\" id=\"files-fa23a775-a15e-4e7d-871e-3de8622c0e78\" name=\"files[]\" multiple disabled\n",
              "        style=\"border:none\" />\n",
              "     <output id=\"result-fa23a775-a15e-4e7d-871e-3de8622c0e78\">\n",
              "      Upload widget is only available when the cell has been executed in the\n",
              "      current browser session. Please rerun this cell to enable.\n",
              "      </output>\n",
              "      <script src=\"/nbextensions/google.colab/files.js\"></script> "
            ]
          },
          "metadata": {}
        },
        {
          "output_type": "stream",
          "name": "stdout",
          "text": [
            "Saving kaggle.json to kaggle.json\n"
          ]
        },
        {
          "output_type": "execute_result",
          "data": {
            "text/plain": [
              "{'kaggle.json': b'{\"username\":\"adilguptagwl\",\"key\":\"8d9b84d8f53905aa1d70492366b4f10f\"}'}"
            ]
          },
          "metadata": {},
          "execution_count": 1
        }
      ]
    },
    {
      "cell_type": "code",
      "source": [
        "!rm -r ~/.kaggle\n",
        "!mkdir ~/.kaggle\n",
        "!mv ./kaggle.json ~/.kaggle/\n",
        "!chmod 600 ~/.kaggle/kaggle.json\n",
        "!kaggle datasets list"
      ],
      "metadata": {
        "colab": {
          "base_uri": "https://localhost:8080/"
        },
        "id": "rXjklMOHCphk",
        "outputId": "23f29744-00d2-4a01-d79b-f36fdc374438"
      },
      "execution_count": 2,
      "outputs": [
        {
          "output_type": "stream",
          "name": "stdout",
          "text": [
            "rm: cannot remove '/root/.kaggle': No such file or directory\n",
            "ref                                                       title                                               size  lastUpdated          downloadCount  voteCount  usabilityRating  \n",
            "--------------------------------------------------------  -------------------------------------------------  -----  -------------------  -------------  ---------  ---------------  \n",
            "ruchi798/data-science-job-salaries                        Data Science Job Salaries                            7KB  2022-06-15 08:59:12           7186        244  1.0              \n",
            "surajjha101/bigbasket-entire-product-list-28k-datapoints  BigBasket Entire Product List (~28K datapoints)      6MB  2022-06-22 12:51:18           2463        103  1.0              \n",
            "victorsoeiro/netflix-tv-shows-and-movies                  Netflix TV Shows and Movies                          2MB  2022-05-15 00:01:23          17246        499  1.0              \n",
            "sameepvani/nasa-nearest-earth-objects                     NASA - Nearest Earth Objects                         7MB  2022-06-17 02:32:18           2532        114  1.0              \n",
            "zusmani/petrolgas-prices-worldwide                        Petrol/Gas Prices Worldwide                         10KB  2022-06-24 01:25:33           2401        116  1.0              \n",
            "mukuldeshantri/ecommerce-fashion-dataset                  E-commerce Dataset with 30K Products               546KB  2022-07-08 12:28:18            759         30  1.0              \n",
            "jimschacko/airlines-dataset-to-predict-a-delay            Airlines Dataset to predict a delay                  6MB  2022-06-21 05:45:44           2284         63  1.0              \n",
            "iamsouravbanerjee/nifty500-stocks-dataset                 Stock Market Dataset (NIFTY-500)                    35KB  2022-07-17 11:46:10            767         57  1.0              \n",
            "zusmani/pakistans-national-assembly-attendance-20182022   Pakistan's National Assembly Attendance 2018-2022    2MB  2022-07-15 03:33:32            252         31  0.88235295       \n",
            "dansbecker/melbourne-housing-snapshot                     Melbourne Housing Snapshot                         451KB  2018-06-05 12:52:24          91304       1109  0.7058824        \n",
            "ramjasmaurya/1-gb-internet-price                          Internet Prices around 200+ countries in 2022.      22KB  2022-07-17 02:56:12           1305         45  0.9705882        \n",
            "datasnaek/youtube-new                                     Trending YouTube Video Statistics                  201MB  2019-06-03 00:56:47         179427       4602  0.7941176        \n",
            "zynicide/wine-reviews                                     Wine Reviews                                        51MB  2017-11-27 17:08:04         163210       3335  0.7941176        \n",
            "deepcontractor/car-price-prediction-challenge             Car Price Prediction Challenge                     429KB  2022-07-06 11:38:32            617         45  0.9411765        \n",
            "devansodariya/student-performance-data                    Student Performance Dataset                          7KB  2022-05-26 13:55:09          10083        262  0.9705882        \n",
            "datasnaek/chess                                           Chess Game Dataset (Lichess)                         3MB  2017-09-04 03:09:09          30508       1019  0.8235294        \n",
            "rtatman/188-million-us-wildfires                          1.88 Million US Wildfires                          168MB  2020-05-12 21:03:49          20734       1021  0.8235294        \n",
            "residentmario/ramen-ratings                               Ramen Ratings                                       40KB  2018-01-11 16:04:39          34842        792  0.7058824        \n",
            "dansbecker/powerlifting-database                          powerlifting-database                                9MB  2019-04-30 21:07:41           4940         59  0.5882353        \n",
            "jpmiller/publicassistance                                 US Public Food Assistance                          703KB  2020-08-21 16:51:18          16644        396  0.9117647        \n"
          ]
        }
      ]
    },
    {
      "cell_type": "code",
      "source": [
        "!kaggle datasets download -d brycecf/give-me-some-credit-dataset"
      ],
      "metadata": {
        "colab": {
          "base_uri": "https://localhost:8080/"
        },
        "id": "mBuDclA4DMas",
        "outputId": "222b56a1-31f6-4abb-ba31-ac035cd0f09f"
      },
      "execution_count": 3,
      "outputs": [
        {
          "output_type": "stream",
          "name": "stdout",
          "text": [
            "Downloading give-me-some-credit-dataset.zip to /content\n",
            "\r  0% 0.00/5.16M [00:00<?, ?B/s]\n",
            "\r100% 5.16M/5.16M [00:00<00:00, 65.0MB/s]\n"
          ]
        }
      ]
    },
    {
      "cell_type": "code",
      "source": [
        "!unzip give-me-some-credit-dataset.zip"
      ],
      "metadata": {
        "colab": {
          "base_uri": "https://localhost:8080/"
        },
        "id": "tqQVLto4Dd7L",
        "outputId": "62595721-25ad-410c-d271-236e0f511a1e"
      },
      "execution_count": 4,
      "outputs": [
        {
          "output_type": "stream",
          "name": "stdout",
          "text": [
            "Archive:  give-me-some-credit-dataset.zip\n",
            "  inflating: Data Dictionary.xls     \n",
            "  inflating: cs-test.csv             \n",
            "  inflating: cs-training.csv         \n",
            "  inflating: sampleEntry.csv         \n"
          ]
        }
      ]
    },
    {
      "cell_type": "code",
      "source": [
        "#read data\n",
        "import pandas as pd\n",
        "import numpy as np\n",
        "df = pd.read_csv('cs-training.csv')\n",
        "df"
      ],
      "metadata": {
        "execution": {
          "iopub.status.busy": "2022-07-20T18:41:52.948297Z",
          "iopub.execute_input": "2022-07-20T18:41:52.949198Z",
          "iopub.status.idle": "2022-07-20T18:41:53.129156Z",
          "shell.execute_reply.started": "2022-07-20T18:41:52.949144Z",
          "shell.execute_reply": "2022-07-20T18:41:53.127679Z"
        },
        "trusted": true,
        "colab": {
          "base_uri": "https://localhost:8080/",
          "height": 505
        },
        "id": "G_M2dvqo8qdj",
        "outputId": "b15be517-b684-4664-b295-874e156bd32b"
      },
      "execution_count": 23,
      "outputs": [
        {
          "output_type": "execute_result",
          "data": {
            "text/plain": [
              "        Unnamed: 0  SeriousDlqin2yrs  RevolvingUtilizationOfUnsecuredLines  \\\n",
              "0                1                 1                              0.766127   \n",
              "1                2                 0                              0.957151   \n",
              "2                3                 0                              0.658180   \n",
              "3                4                 0                              0.233810   \n",
              "4                5                 0                              0.907239   \n",
              "...            ...               ...                                   ...   \n",
              "149995      149996                 0                              0.040674   \n",
              "149996      149997                 0                              0.299745   \n",
              "149997      149998                 0                              0.246044   \n",
              "149998      149999                 0                              0.000000   \n",
              "149999      150000                 0                              0.850283   \n",
              "\n",
              "        age  NumberOfTime30-59DaysPastDueNotWorse    DebtRatio  MonthlyIncome  \\\n",
              "0        45                                     2     0.802982         9120.0   \n",
              "1        40                                     0     0.121876         2600.0   \n",
              "2        38                                     1     0.085113         3042.0   \n",
              "3        30                                     0     0.036050         3300.0   \n",
              "4        49                                     1     0.024926        63588.0   \n",
              "...     ...                                   ...          ...            ...   \n",
              "149995   74                                     0     0.225131         2100.0   \n",
              "149996   44                                     0     0.716562         5584.0   \n",
              "149997   58                                     0  3870.000000            NaN   \n",
              "149998   30                                     0     0.000000         5716.0   \n",
              "149999   64                                     0     0.249908         8158.0   \n",
              "\n",
              "        NumberOfOpenCreditLinesAndLoans  NumberOfTimes90DaysLate  \\\n",
              "0                                    13                        0   \n",
              "1                                     4                        0   \n",
              "2                                     2                        1   \n",
              "3                                     5                        0   \n",
              "4                                     7                        0   \n",
              "...                                 ...                      ...   \n",
              "149995                                4                        0   \n",
              "149996                                4                        0   \n",
              "149997                               18                        0   \n",
              "149998                                4                        0   \n",
              "149999                                8                        0   \n",
              "\n",
              "        NumberRealEstateLoansOrLines  NumberOfTime60-89DaysPastDueNotWorse  \\\n",
              "0                                  6                                     0   \n",
              "1                                  0                                     0   \n",
              "2                                  0                                     0   \n",
              "3                                  0                                     0   \n",
              "4                                  1                                     0   \n",
              "...                              ...                                   ...   \n",
              "149995                             1                                     0   \n",
              "149996                             1                                     0   \n",
              "149997                             1                                     0   \n",
              "149998                             0                                     0   \n",
              "149999                             2                                     0   \n",
              "\n",
              "        NumberOfDependents  \n",
              "0                      2.0  \n",
              "1                      1.0  \n",
              "2                      0.0  \n",
              "3                      0.0  \n",
              "4                      0.0  \n",
              "...                    ...  \n",
              "149995                 0.0  \n",
              "149996                 2.0  \n",
              "149997                 0.0  \n",
              "149998                 0.0  \n",
              "149999                 0.0  \n",
              "\n",
              "[150000 rows x 12 columns]"
            ],
            "text/html": [
              "\n",
              "  <div id=\"df-c349c0f4-701a-49fb-b781-057e8b9e1935\">\n",
              "    <div class=\"colab-df-container\">\n",
              "      <div>\n",
              "<style scoped>\n",
              "    .dataframe tbody tr th:only-of-type {\n",
              "        vertical-align: middle;\n",
              "    }\n",
              "\n",
              "    .dataframe tbody tr th {\n",
              "        vertical-align: top;\n",
              "    }\n",
              "\n",
              "    .dataframe thead th {\n",
              "        text-align: right;\n",
              "    }\n",
              "</style>\n",
              "<table border=\"1\" class=\"dataframe\">\n",
              "  <thead>\n",
              "    <tr style=\"text-align: right;\">\n",
              "      <th></th>\n",
              "      <th>Unnamed: 0</th>\n",
              "      <th>SeriousDlqin2yrs</th>\n",
              "      <th>RevolvingUtilizationOfUnsecuredLines</th>\n",
              "      <th>age</th>\n",
              "      <th>NumberOfTime30-59DaysPastDueNotWorse</th>\n",
              "      <th>DebtRatio</th>\n",
              "      <th>MonthlyIncome</th>\n",
              "      <th>NumberOfOpenCreditLinesAndLoans</th>\n",
              "      <th>NumberOfTimes90DaysLate</th>\n",
              "      <th>NumberRealEstateLoansOrLines</th>\n",
              "      <th>NumberOfTime60-89DaysPastDueNotWorse</th>\n",
              "      <th>NumberOfDependents</th>\n",
              "    </tr>\n",
              "  </thead>\n",
              "  <tbody>\n",
              "    <tr>\n",
              "      <th>0</th>\n",
              "      <td>1</td>\n",
              "      <td>1</td>\n",
              "      <td>0.766127</td>\n",
              "      <td>45</td>\n",
              "      <td>2</td>\n",
              "      <td>0.802982</td>\n",
              "      <td>9120.0</td>\n",
              "      <td>13</td>\n",
              "      <td>0</td>\n",
              "      <td>6</td>\n",
              "      <td>0</td>\n",
              "      <td>2.0</td>\n",
              "    </tr>\n",
              "    <tr>\n",
              "      <th>1</th>\n",
              "      <td>2</td>\n",
              "      <td>0</td>\n",
              "      <td>0.957151</td>\n",
              "      <td>40</td>\n",
              "      <td>0</td>\n",
              "      <td>0.121876</td>\n",
              "      <td>2600.0</td>\n",
              "      <td>4</td>\n",
              "      <td>0</td>\n",
              "      <td>0</td>\n",
              "      <td>0</td>\n",
              "      <td>1.0</td>\n",
              "    </tr>\n",
              "    <tr>\n",
              "      <th>2</th>\n",
              "      <td>3</td>\n",
              "      <td>0</td>\n",
              "      <td>0.658180</td>\n",
              "      <td>38</td>\n",
              "      <td>1</td>\n",
              "      <td>0.085113</td>\n",
              "      <td>3042.0</td>\n",
              "      <td>2</td>\n",
              "      <td>1</td>\n",
              "      <td>0</td>\n",
              "      <td>0</td>\n",
              "      <td>0.0</td>\n",
              "    </tr>\n",
              "    <tr>\n",
              "      <th>3</th>\n",
              "      <td>4</td>\n",
              "      <td>0</td>\n",
              "      <td>0.233810</td>\n",
              "      <td>30</td>\n",
              "      <td>0</td>\n",
              "      <td>0.036050</td>\n",
              "      <td>3300.0</td>\n",
              "      <td>5</td>\n",
              "      <td>0</td>\n",
              "      <td>0</td>\n",
              "      <td>0</td>\n",
              "      <td>0.0</td>\n",
              "    </tr>\n",
              "    <tr>\n",
              "      <th>4</th>\n",
              "      <td>5</td>\n",
              "      <td>0</td>\n",
              "      <td>0.907239</td>\n",
              "      <td>49</td>\n",
              "      <td>1</td>\n",
              "      <td>0.024926</td>\n",
              "      <td>63588.0</td>\n",
              "      <td>7</td>\n",
              "      <td>0</td>\n",
              "      <td>1</td>\n",
              "      <td>0</td>\n",
              "      <td>0.0</td>\n",
              "    </tr>\n",
              "    <tr>\n",
              "      <th>...</th>\n",
              "      <td>...</td>\n",
              "      <td>...</td>\n",
              "      <td>...</td>\n",
              "      <td>...</td>\n",
              "      <td>...</td>\n",
              "      <td>...</td>\n",
              "      <td>...</td>\n",
              "      <td>...</td>\n",
              "      <td>...</td>\n",
              "      <td>...</td>\n",
              "      <td>...</td>\n",
              "      <td>...</td>\n",
              "    </tr>\n",
              "    <tr>\n",
              "      <th>149995</th>\n",
              "      <td>149996</td>\n",
              "      <td>0</td>\n",
              "      <td>0.040674</td>\n",
              "      <td>74</td>\n",
              "      <td>0</td>\n",
              "      <td>0.225131</td>\n",
              "      <td>2100.0</td>\n",
              "      <td>4</td>\n",
              "      <td>0</td>\n",
              "      <td>1</td>\n",
              "      <td>0</td>\n",
              "      <td>0.0</td>\n",
              "    </tr>\n",
              "    <tr>\n",
              "      <th>149996</th>\n",
              "      <td>149997</td>\n",
              "      <td>0</td>\n",
              "      <td>0.299745</td>\n",
              "      <td>44</td>\n",
              "      <td>0</td>\n",
              "      <td>0.716562</td>\n",
              "      <td>5584.0</td>\n",
              "      <td>4</td>\n",
              "      <td>0</td>\n",
              "      <td>1</td>\n",
              "      <td>0</td>\n",
              "      <td>2.0</td>\n",
              "    </tr>\n",
              "    <tr>\n",
              "      <th>149997</th>\n",
              "      <td>149998</td>\n",
              "      <td>0</td>\n",
              "      <td>0.246044</td>\n",
              "      <td>58</td>\n",
              "      <td>0</td>\n",
              "      <td>3870.000000</td>\n",
              "      <td>NaN</td>\n",
              "      <td>18</td>\n",
              "      <td>0</td>\n",
              "      <td>1</td>\n",
              "      <td>0</td>\n",
              "      <td>0.0</td>\n",
              "    </tr>\n",
              "    <tr>\n",
              "      <th>149998</th>\n",
              "      <td>149999</td>\n",
              "      <td>0</td>\n",
              "      <td>0.000000</td>\n",
              "      <td>30</td>\n",
              "      <td>0</td>\n",
              "      <td>0.000000</td>\n",
              "      <td>5716.0</td>\n",
              "      <td>4</td>\n",
              "      <td>0</td>\n",
              "      <td>0</td>\n",
              "      <td>0</td>\n",
              "      <td>0.0</td>\n",
              "    </tr>\n",
              "    <tr>\n",
              "      <th>149999</th>\n",
              "      <td>150000</td>\n",
              "      <td>0</td>\n",
              "      <td>0.850283</td>\n",
              "      <td>64</td>\n",
              "      <td>0</td>\n",
              "      <td>0.249908</td>\n",
              "      <td>8158.0</td>\n",
              "      <td>8</td>\n",
              "      <td>0</td>\n",
              "      <td>2</td>\n",
              "      <td>0</td>\n",
              "      <td>0.0</td>\n",
              "    </tr>\n",
              "  </tbody>\n",
              "</table>\n",
              "<p>150000 rows × 12 columns</p>\n",
              "</div>\n",
              "      <button class=\"colab-df-convert\" onclick=\"convertToInteractive('df-c349c0f4-701a-49fb-b781-057e8b9e1935')\"\n",
              "              title=\"Convert this dataframe to an interactive table.\"\n",
              "              style=\"display:none;\">\n",
              "        \n",
              "  <svg xmlns=\"http://www.w3.org/2000/svg\" height=\"24px\"viewBox=\"0 0 24 24\"\n",
              "       width=\"24px\">\n",
              "    <path d=\"M0 0h24v24H0V0z\" fill=\"none\"/>\n",
              "    <path d=\"M18.56 5.44l.94 2.06.94-2.06 2.06-.94-2.06-.94-.94-2.06-.94 2.06-2.06.94zm-11 1L8.5 8.5l.94-2.06 2.06-.94-2.06-.94L8.5 2.5l-.94 2.06-2.06.94zm10 10l.94 2.06.94-2.06 2.06-.94-2.06-.94-.94-2.06-.94 2.06-2.06.94z\"/><path d=\"M17.41 7.96l-1.37-1.37c-.4-.4-.92-.59-1.43-.59-.52 0-1.04.2-1.43.59L10.3 9.45l-7.72 7.72c-.78.78-.78 2.05 0 2.83L4 21.41c.39.39.9.59 1.41.59.51 0 1.02-.2 1.41-.59l7.78-7.78 2.81-2.81c.8-.78.8-2.07 0-2.86zM5.41 20L4 18.59l7.72-7.72 1.47 1.35L5.41 20z\"/>\n",
              "  </svg>\n",
              "      </button>\n",
              "      \n",
              "  <style>\n",
              "    .colab-df-container {\n",
              "      display:flex;\n",
              "      flex-wrap:wrap;\n",
              "      gap: 12px;\n",
              "    }\n",
              "\n",
              "    .colab-df-convert {\n",
              "      background-color: #E8F0FE;\n",
              "      border: none;\n",
              "      border-radius: 50%;\n",
              "      cursor: pointer;\n",
              "      display: none;\n",
              "      fill: #1967D2;\n",
              "      height: 32px;\n",
              "      padding: 0 0 0 0;\n",
              "      width: 32px;\n",
              "    }\n",
              "\n",
              "    .colab-df-convert:hover {\n",
              "      background-color: #E2EBFA;\n",
              "      box-shadow: 0px 1px 2px rgba(60, 64, 67, 0.3), 0px 1px 3px 1px rgba(60, 64, 67, 0.15);\n",
              "      fill: #174EA6;\n",
              "    }\n",
              "\n",
              "    [theme=dark] .colab-df-convert {\n",
              "      background-color: #3B4455;\n",
              "      fill: #D2E3FC;\n",
              "    }\n",
              "\n",
              "    [theme=dark] .colab-df-convert:hover {\n",
              "      background-color: #434B5C;\n",
              "      box-shadow: 0px 1px 3px 1px rgba(0, 0, 0, 0.15);\n",
              "      filter: drop-shadow(0px 1px 2px rgba(0, 0, 0, 0.3));\n",
              "      fill: #FFFFFF;\n",
              "    }\n",
              "  </style>\n",
              "\n",
              "      <script>\n",
              "        const buttonEl =\n",
              "          document.querySelector('#df-c349c0f4-701a-49fb-b781-057e8b9e1935 button.colab-df-convert');\n",
              "        buttonEl.style.display =\n",
              "          google.colab.kernel.accessAllowed ? 'block' : 'none';\n",
              "\n",
              "        async function convertToInteractive(key) {\n",
              "          const element = document.querySelector('#df-c349c0f4-701a-49fb-b781-057e8b9e1935');\n",
              "          const dataTable =\n",
              "            await google.colab.kernel.invokeFunction('convertToInteractive',\n",
              "                                                     [key], {});\n",
              "          if (!dataTable) return;\n",
              "\n",
              "          const docLinkHtml = 'Like what you see? Visit the ' +\n",
              "            '<a target=\"_blank\" href=https://colab.research.google.com/notebooks/data_table.ipynb>data table notebook</a>'\n",
              "            + ' to learn more about interactive tables.';\n",
              "          element.innerHTML = '';\n",
              "          dataTable['output_type'] = 'display_data';\n",
              "          await google.colab.output.renderOutput(dataTable, element);\n",
              "          const docLink = document.createElement('div');\n",
              "          docLink.innerHTML = docLinkHtml;\n",
              "          element.appendChild(docLink);\n",
              "        }\n",
              "      </script>\n",
              "    </div>\n",
              "  </div>\n",
              "  "
            ]
          },
          "metadata": {},
          "execution_count": 23
        }
      ]
    },
    {
      "cell_type": "code",
      "source": [
        "cols_missing = [col for col in df.columns if df[col].isnull().any()]\n",
        "for col in df.columns:\n",
        "    df[col] = df[col].astype(float)\n",
        "cols_without_missing =  [col for col in df.columns if col not in cols_missing]\n",
        "cols_without_missing = cols_without_missing[2:]"
      ],
      "metadata": {
        "execution": {
          "iopub.status.busy": "2022-07-20T18:41:53.131281Z",
          "iopub.execute_input": "2022-07-20T18:41:53.132489Z",
          "iopub.status.idle": "2022-07-20T18:41:53.178223Z",
          "shell.execute_reply.started": "2022-07-20T18:41:53.132432Z",
          "shell.execute_reply": "2022-07-20T18:41:53.176527Z"
        },
        "trusted": true,
        "id": "qkaCphud8qdk"
      },
      "execution_count": 24,
      "outputs": []
    },
    {
      "cell_type": "code",
      "source": [
        "X = df.drop(['Unnamed: 0','SeriousDlqin2yrs'],axis =1)\n",
        "y = df['SeriousDlqin2yrs']"
      ],
      "metadata": {
        "execution": {
          "iopub.status.busy": "2022-07-20T18:41:53.179867Z",
          "iopub.execute_input": "2022-07-20T18:41:53.180252Z",
          "iopub.status.idle": "2022-07-20T18:41:53.198967Z",
          "shell.execute_reply.started": "2022-07-20T18:41:53.180215Z",
          "shell.execute_reply": "2022-07-20T18:41:53.197925Z"
        },
        "trusted": true,
        "id": "TI1JUjax8qdk"
      },
      "execution_count": 25,
      "outputs": []
    },
    {
      "cell_type": "code",
      "source": [
        "from sklearn.linear_model import LogisticRegression\n",
        "from sklearn.naive_bayes import GaussianNB\n",
        "from sklearn.ensemble import RandomForestClassifier\n",
        "from xgboost import XGBClassifier\n",
        "from sklearn.tree import DecisionTreeClassifier"
      ],
      "metadata": {
        "execution": {
          "iopub.status.busy": "2022-07-20T18:41:53.202567Z",
          "iopub.execute_input": "2022-07-20T18:41:53.203159Z",
          "iopub.status.idle": "2022-07-20T18:41:53.209543Z",
          "shell.execute_reply.started": "2022-07-20T18:41:53.203115Z",
          "shell.execute_reply": "2022-07-20T18:41:53.208553Z"
        },
        "trusted": true,
        "id": "zd0klRsY8qdl"
      },
      "execution_count": 26,
      "outputs": []
    },
    {
      "cell_type": "code",
      "source": [
        "from sklearn.metrics import roc_auc_score\n",
        "from sklearn.metrics import f1_score\n",
        "from sklearn.model_selection import StratifiedKFold\n",
        "from sklearn.model_selection import cross_validate"
      ],
      "metadata": {
        "execution": {
          "iopub.status.busy": "2022-07-20T18:41:53.211017Z",
          "iopub.execute_input": "2022-07-20T18:41:53.211389Z",
          "iopub.status.idle": "2022-07-20T18:41:53.222646Z",
          "shell.execute_reply.started": "2022-07-20T18:41:53.211354Z",
          "shell.execute_reply": "2022-07-20T18:41:53.221406Z"
        },
        "trusted": true,
        "id": "oD0TJ6yN8qdl"
      },
      "execution_count": 27,
      "outputs": []
    },
    {
      "cell_type": "code",
      "source": [
        "#baseline model\n",
        "model1= DecisionTreeClassifier(max_depth=7, min_samples_leaf=25, min_samples_split = 4, random_state=0)\n",
        "model = LogisticRegression()\n",
        "cv = StratifiedKFold(n_splits=5, shuffle=True, random_state=0)"
      ],
      "metadata": {
        "execution": {
          "iopub.status.busy": "2022-07-20T18:41:53.224338Z",
          "iopub.execute_input": "2022-07-20T18:41:53.224702Z",
          "iopub.status.idle": "2022-07-20T18:41:53.238054Z",
          "shell.execute_reply.started": "2022-07-20T18:41:53.224672Z",
          "shell.execute_reply": "2022-07-20T18:41:53.236243Z"
        },
        "trusted": true,
        "id": "TSbi6jVW8qdm"
      },
      "execution_count": 28,
      "outputs": []
    },
    {
      "cell_type": "code",
      "source": [
        "#cv score calculator\n",
        "def score(pipe, X,y):\n",
        "    scoring = ['precision','recall','f1','roc_auc']\n",
        "    r = cross_validate(pipe,X,y,cv=cv,scoring = scoring,n_jobs = -1)\n",
        "    precision = r['test_precision'].mean()\n",
        "    recall = r['test_recall'].mean()\n",
        "    F1 = r['test_f1'].mean()\n",
        "    AUC = r['test_roc_auc'].mean()\n",
        "    return [precision,recall,F1,AUC]"
      ],
      "metadata": {
        "execution": {
          "iopub.status.busy": "2022-07-20T18:41:53.240578Z",
          "iopub.execute_input": "2022-07-20T18:41:53.241975Z",
          "iopub.status.idle": "2022-07-20T18:41:53.252568Z",
          "shell.execute_reply.started": "2022-07-20T18:41:53.241926Z",
          "shell.execute_reply": "2022-07-20T18:41:53.251028Z"
        },
        "trusted": true,
        "id": "guVPJgqD8qdm"
      },
      "execution_count": 29,
      "outputs": []
    },
    {
      "cell_type": "code",
      "source": [
        "#Base line score\n",
        "BaseLineScore = score(model, X.drop(cols_missing,axis=1),y )\n",
        "BaseLineScore"
      ],
      "metadata": {
        "execution": {
          "iopub.status.busy": "2022-07-20T18:41:53.254047Z",
          "iopub.execute_input": "2022-07-20T18:41:53.254466Z",
          "iopub.status.idle": "2022-07-20T18:41:58.781906Z",
          "shell.execute_reply.started": "2022-07-20T18:41:53.254431Z",
          "shell.execute_reply": "2022-07-20T18:41:58.780165Z"
        },
        "trusted": true,
        "colab": {
          "base_uri": "https://localhost:8080/"
        },
        "id": "hMSmvzkX8qdo",
        "outputId": "d5936ffc-6019-4af1-c520-20bb10ca7cfe"
      },
      "execution_count": 30,
      "outputs": [
        {
          "output_type": "execute_result",
          "data": {
            "text/plain": [
              "[0.5277049472266864,\n",
              " 0.038100063898081314,\n",
              " 0.07077432309321584,\n",
              " 0.6903897487301223]"
            ]
          },
          "metadata": {},
          "execution_count": 30
        }
      ]
    },
    {
      "cell_type": "code",
      "source": [
        "# handling missing values\n",
        "from sklearn.compose import ColumnTransformer\n",
        "from sklearn.pipeline import Pipeline\n",
        "from sklearn.impute import SimpleImputer\n",
        "\n",
        "print(X.isnull().sum())\n",
        "\n",
        "monthly_inc_trans = SimpleImputer(strategy = 'median')\n",
        "dependent_trans = SimpleImputer(strategy = 'most_frequent')\n",
        "\n",
        "handle_missing = ColumnTransformer([('monthly_inc',monthly_inc_trans,['MonthlyIncome']),('dependent',dependent_trans,['NumberOfDependents']),('same',monthly_inc_trans,cols_without_missing)])"
      ],
      "metadata": {
        "execution": {
          "iopub.status.busy": "2022-07-20T18:41:58.784615Z",
          "iopub.execute_input": "2022-07-20T18:41:58.785191Z",
          "iopub.status.idle": "2022-07-20T18:41:58.801692Z",
          "shell.execute_reply.started": "2022-07-20T18:41:58.785133Z",
          "shell.execute_reply": "2022-07-20T18:41:58.800332Z"
        },
        "trusted": true,
        "colab": {
          "base_uri": "https://localhost:8080/"
        },
        "id": "wPJdRKlp8qdo",
        "outputId": "72575431-d577-4a1c-ecb4-37951696da80"
      },
      "execution_count": 31,
      "outputs": [
        {
          "output_type": "stream",
          "name": "stdout",
          "text": [
            "RevolvingUtilizationOfUnsecuredLines        0\n",
            "age                                         0\n",
            "NumberOfTime30-59DaysPastDueNotWorse        0\n",
            "DebtRatio                                   0\n",
            "MonthlyIncome                           29731\n",
            "NumberOfOpenCreditLinesAndLoans             0\n",
            "NumberOfTimes90DaysLate                     0\n",
            "NumberRealEstateLoansOrLines                0\n",
            "NumberOfTime60-89DaysPastDueNotWorse        0\n",
            "NumberOfDependents                       3924\n",
            "dtype: int64\n"
          ]
        }
      ]
    },
    {
      "cell_type": "code",
      "source": [
        "#Remove skew and scaling\n",
        "from sklearn.preprocessing import FunctionTransformer\n",
        "from sklearn.preprocessing import StandardScaler\n",
        "\n",
        "log_columns = X.skew().sort_values(ascending=False)\n",
        "log_columns = log_columns.loc[log_columns > 0.75]\n",
        "print(log_columns)\n",
        "\n",
        "log_trans = FunctionTransformer(np.log1p)\n",
        "ss_trans = StandardScaler()"
      ],
      "metadata": {
        "execution": {
          "iopub.status.busy": "2022-07-20T18:41:58.807065Z",
          "iopub.execute_input": "2022-07-20T18:41:58.807827Z",
          "iopub.status.idle": "2022-07-20T18:41:58.843438Z",
          "shell.execute_reply.started": "2022-07-20T18:41:58.807758Z",
          "shell.execute_reply": "2022-07-20T18:41:58.842154Z"
        },
        "trusted": true,
        "colab": {
          "base_uri": "https://localhost:8080/"
        },
        "id": "BVjHh2mQ8qdp",
        "outputId": "5221569b-730c-4845-ae5b-62073094da48"
      },
      "execution_count": 32,
      "outputs": [
        {
          "output_type": "stream",
          "name": "stdout",
          "text": [
            "MonthlyIncome                           114.040318\n",
            "RevolvingUtilizationOfUnsecuredLines     97.631574\n",
            "DebtRatio                                95.157793\n",
            "NumberOfTime60-89DaysPastDueNotWorse     23.331743\n",
            "NumberOfTimes90DaysLate                  23.087345\n",
            "NumberOfTime30-59DaysPastDueNotWorse     22.597108\n",
            "NumberRealEstateLoansOrLines              3.482484\n",
            "NumberOfDependents                        1.588242\n",
            "NumberOfOpenCreditLinesAndLoans           1.215314\n",
            "dtype: float64\n"
          ]
        }
      ]
    },
    {
      "cell_type": "code",
      "source": [
        "#handling class imbalance\n",
        "from imblearn.pipeline import Pipeline as ibPipeline\n",
        "from imblearn.combine import SMOTEENN\n",
        "\n",
        "smote = SMOTEENN(random_state  = 1)"
      ],
      "metadata": {
        "id": "2NceHrf-SHeh"
      },
      "execution_count": 33,
      "outputs": []
    },
    {
      "cell_type": "code",
      "source": [
        "#score after pre pprocessing\n",
        "my_pipe =  ibPipeline([('handle_missing',handle_missing),('smote',smote),('log1p', log_trans),('ss', StandardScaler()),('model',model)])\n",
        "score(my_pipe,X,y)"
      ],
      "metadata": {
        "colab": {
          "base_uri": "https://localhost:8080/"
        },
        "id": "ekaeaWG2UJuh",
        "outputId": "94a91d7b-8f64-40c2-f04f-a4e0b6b4b057"
      },
      "execution_count": 34,
      "outputs": [
        {
          "output_type": "execute_result",
          "data": {
            "text/plain": [
              "[0.21757733492242703,\n",
              " 0.7352900898302599,\n",
              " 0.3357818827337321,\n",
              " 0.8536153103186214]"
            ]
          },
          "metadata": {},
          "execution_count": 34
        }
      ]
    },
    {
      "cell_type": "code",
      "source": [
        "#final preprocessing pipeline\n",
        "pre_process = ibPipeline([('handle_missing',handle_missing),('smote',smote),('log1p', log_trans),('ss', StandardScaler())])"
      ],
      "metadata": {
        "execution": {
          "iopub.status.busy": "2022-07-20T18:42:01.229939Z",
          "iopub.execute_input": "2022-07-20T18:42:01.230531Z",
          "iopub.status.idle": "2022-07-20T18:42:01.545375Z",
          "shell.execute_reply.started": "2022-07-20T18:42:01.230477Z",
          "shell.execute_reply": "2022-07-20T18:42:01.543982Z"
        },
        "trusted": true,
        "id": "lKdo8-F38qdq"
      },
      "execution_count": 35,
      "outputs": []
    },
    {
      "cell_type": "code",
      "source": [
        "X_m = handle_missing.fit_transform(X)\n",
        "X_s, y_s = smote.fit_resample(X_m,y)\n",
        "pre_processed_X , y_new = Pipeline([('log1p', log_trans),('ss', StandardScaler())]).fit_transform(X_s),y_s\n",
        "pre_processed_X,y_new = pd.DataFrame(pre_processed_X),pd.DataFrame(y_new)\n",
        "pre_processed_X.columns = X.columns\n",
        "pre_processed_X"
      ],
      "metadata": {
        "colab": {
          "base_uri": "https://localhost:8080/",
          "height": 505
        },
        "id": "S1eewu-PdtiW",
        "outputId": "bda8db36-3c46-4b24-995e-0e8afec16380"
      },
      "execution_count": 36,
      "outputs": [
        {
          "output_type": "execute_result",
          "data": {
            "text/plain": [
              "        RevolvingUtilizationOfUnsecuredLines       age  \\\n",
              "0                                  -0.314063 -0.894692   \n",
              "1                                   2.633981 -0.894692   \n",
              "2                                  -0.255442  0.449942   \n",
              "3                                  -0.255442 -0.894692   \n",
              "4                                   1.649778  1.236503   \n",
              "...                                      ...       ...   \n",
              "216577                             -0.590644  0.660001   \n",
              "216578                              0.176603 -0.894692   \n",
              "216579                             -1.532834  0.449942   \n",
              "216580                             -0.344687 -0.699876   \n",
              "216581                              0.176603 -0.894692   \n",
              "\n",
              "        NumberOfTime30-59DaysPastDueNotWorse  DebtRatio  MonthlyIncome  \\\n",
              "0                                  -0.490833  -1.523395      -0.623557   \n",
              "1                                   0.673929   0.120530       0.505018   \n",
              "2                                  -0.535928   1.514890      -0.623557   \n",
              "3                                   0.450648  -0.646842      -0.623557   \n",
              "4                                  -0.589384   0.630933      -0.623557   \n",
              "...                                      ...        ...            ...   \n",
              "216577                             -0.657878   0.462565       0.627993   \n",
              "216578                              0.730596  -0.977714       1.047819   \n",
              "216579                              0.727467  -1.523395      -0.623557   \n",
              "216580                              0.717678  -0.683365       0.505018   \n",
              "216581                              0.490848  -0.039129      -0.623557   \n",
              "\n",
              "        NumberOfOpenCreditLinesAndLoans  NumberOfTimes90DaysLate  \\\n",
              "0                             -0.549321                -0.353805   \n",
              "1                             -0.553735                 0.097220   \n",
              "2                             -0.433402                -0.989489   \n",
              "3                             -0.485876                 0.281878   \n",
              "4                             -0.370007                 0.447062   \n",
              "...                                 ...                      ...   \n",
              "216577                        -0.108153                 0.650510   \n",
              "216578                         2.073082                -0.513972   \n",
              "216579                        -0.521666                -1.100753   \n",
              "216580                        -0.498432                -0.989489   \n",
              "216581                         2.256848                -0.261009   \n",
              "\n",
              "        NumberRealEstateLoansOrLines  NumberOfTime60-89DaysPastDueNotWorse  \\\n",
              "0                          -0.448454                             -1.107202   \n",
              "1                          -0.448454                              0.297568   \n",
              "2                          -0.448454                              0.297568   \n",
              "3                          -0.448454                             -1.107202   \n",
              "4                          -0.448454                              2.154574   \n",
              "...                              ...                                   ...   \n",
              "216577                     -0.448454                              1.621238   \n",
              "216578                      0.573175                             -1.107202   \n",
              "216579                     -0.448454                             -1.107202   \n",
              "216580                     -0.272461                             -1.107202   \n",
              "216581                     -0.154054                             -0.766739   \n",
              "\n",
              "        NumberOfDependents  \n",
              "0                -0.376602  \n",
              "1                -0.376602  \n",
              "2                -0.376602  \n",
              "3                -0.376602  \n",
              "4                -0.376602  \n",
              "...                    ...  \n",
              "216577           -0.376602  \n",
              "216578           -0.376602  \n",
              "216579           -0.376602  \n",
              "216580           -0.376602  \n",
              "216581            0.970170  \n",
              "\n",
              "[216582 rows x 10 columns]"
            ],
            "text/html": [
              "\n",
              "  <div id=\"df-f7a4088d-d0bd-4cb1-938d-eb1f58f55ccb\">\n",
              "    <div class=\"colab-df-container\">\n",
              "      <div>\n",
              "<style scoped>\n",
              "    .dataframe tbody tr th:only-of-type {\n",
              "        vertical-align: middle;\n",
              "    }\n",
              "\n",
              "    .dataframe tbody tr th {\n",
              "        vertical-align: top;\n",
              "    }\n",
              "\n",
              "    .dataframe thead th {\n",
              "        text-align: right;\n",
              "    }\n",
              "</style>\n",
              "<table border=\"1\" class=\"dataframe\">\n",
              "  <thead>\n",
              "    <tr style=\"text-align: right;\">\n",
              "      <th></th>\n",
              "      <th>RevolvingUtilizationOfUnsecuredLines</th>\n",
              "      <th>age</th>\n",
              "      <th>NumberOfTime30-59DaysPastDueNotWorse</th>\n",
              "      <th>DebtRatio</th>\n",
              "      <th>MonthlyIncome</th>\n",
              "      <th>NumberOfOpenCreditLinesAndLoans</th>\n",
              "      <th>NumberOfTimes90DaysLate</th>\n",
              "      <th>NumberRealEstateLoansOrLines</th>\n",
              "      <th>NumberOfTime60-89DaysPastDueNotWorse</th>\n",
              "      <th>NumberOfDependents</th>\n",
              "    </tr>\n",
              "  </thead>\n",
              "  <tbody>\n",
              "    <tr>\n",
              "      <th>0</th>\n",
              "      <td>-0.314063</td>\n",
              "      <td>-0.894692</td>\n",
              "      <td>-0.490833</td>\n",
              "      <td>-1.523395</td>\n",
              "      <td>-0.623557</td>\n",
              "      <td>-0.549321</td>\n",
              "      <td>-0.353805</td>\n",
              "      <td>-0.448454</td>\n",
              "      <td>-1.107202</td>\n",
              "      <td>-0.376602</td>\n",
              "    </tr>\n",
              "    <tr>\n",
              "      <th>1</th>\n",
              "      <td>2.633981</td>\n",
              "      <td>-0.894692</td>\n",
              "      <td>0.673929</td>\n",
              "      <td>0.120530</td>\n",
              "      <td>0.505018</td>\n",
              "      <td>-0.553735</td>\n",
              "      <td>0.097220</td>\n",
              "      <td>-0.448454</td>\n",
              "      <td>0.297568</td>\n",
              "      <td>-0.376602</td>\n",
              "    </tr>\n",
              "    <tr>\n",
              "      <th>2</th>\n",
              "      <td>-0.255442</td>\n",
              "      <td>0.449942</td>\n",
              "      <td>-0.535928</td>\n",
              "      <td>1.514890</td>\n",
              "      <td>-0.623557</td>\n",
              "      <td>-0.433402</td>\n",
              "      <td>-0.989489</td>\n",
              "      <td>-0.448454</td>\n",
              "      <td>0.297568</td>\n",
              "      <td>-0.376602</td>\n",
              "    </tr>\n",
              "    <tr>\n",
              "      <th>3</th>\n",
              "      <td>-0.255442</td>\n",
              "      <td>-0.894692</td>\n",
              "      <td>0.450648</td>\n",
              "      <td>-0.646842</td>\n",
              "      <td>-0.623557</td>\n",
              "      <td>-0.485876</td>\n",
              "      <td>0.281878</td>\n",
              "      <td>-0.448454</td>\n",
              "      <td>-1.107202</td>\n",
              "      <td>-0.376602</td>\n",
              "    </tr>\n",
              "    <tr>\n",
              "      <th>4</th>\n",
              "      <td>1.649778</td>\n",
              "      <td>1.236503</td>\n",
              "      <td>-0.589384</td>\n",
              "      <td>0.630933</td>\n",
              "      <td>-0.623557</td>\n",
              "      <td>-0.370007</td>\n",
              "      <td>0.447062</td>\n",
              "      <td>-0.448454</td>\n",
              "      <td>2.154574</td>\n",
              "      <td>-0.376602</td>\n",
              "    </tr>\n",
              "    <tr>\n",
              "      <th>...</th>\n",
              "      <td>...</td>\n",
              "      <td>...</td>\n",
              "      <td>...</td>\n",
              "      <td>...</td>\n",
              "      <td>...</td>\n",
              "      <td>...</td>\n",
              "      <td>...</td>\n",
              "      <td>...</td>\n",
              "      <td>...</td>\n",
              "      <td>...</td>\n",
              "    </tr>\n",
              "    <tr>\n",
              "      <th>216577</th>\n",
              "      <td>-0.590644</td>\n",
              "      <td>0.660001</td>\n",
              "      <td>-0.657878</td>\n",
              "      <td>0.462565</td>\n",
              "      <td>0.627993</td>\n",
              "      <td>-0.108153</td>\n",
              "      <td>0.650510</td>\n",
              "      <td>-0.448454</td>\n",
              "      <td>1.621238</td>\n",
              "      <td>-0.376602</td>\n",
              "    </tr>\n",
              "    <tr>\n",
              "      <th>216578</th>\n",
              "      <td>0.176603</td>\n",
              "      <td>-0.894692</td>\n",
              "      <td>0.730596</td>\n",
              "      <td>-0.977714</td>\n",
              "      <td>1.047819</td>\n",
              "      <td>2.073082</td>\n",
              "      <td>-0.513972</td>\n",
              "      <td>0.573175</td>\n",
              "      <td>-1.107202</td>\n",
              "      <td>-0.376602</td>\n",
              "    </tr>\n",
              "    <tr>\n",
              "      <th>216579</th>\n",
              "      <td>-1.532834</td>\n",
              "      <td>0.449942</td>\n",
              "      <td>0.727467</td>\n",
              "      <td>-1.523395</td>\n",
              "      <td>-0.623557</td>\n",
              "      <td>-0.521666</td>\n",
              "      <td>-1.100753</td>\n",
              "      <td>-0.448454</td>\n",
              "      <td>-1.107202</td>\n",
              "      <td>-0.376602</td>\n",
              "    </tr>\n",
              "    <tr>\n",
              "      <th>216580</th>\n",
              "      <td>-0.344687</td>\n",
              "      <td>-0.699876</td>\n",
              "      <td>0.717678</td>\n",
              "      <td>-0.683365</td>\n",
              "      <td>0.505018</td>\n",
              "      <td>-0.498432</td>\n",
              "      <td>-0.989489</td>\n",
              "      <td>-0.272461</td>\n",
              "      <td>-1.107202</td>\n",
              "      <td>-0.376602</td>\n",
              "    </tr>\n",
              "    <tr>\n",
              "      <th>216581</th>\n",
              "      <td>0.176603</td>\n",
              "      <td>-0.894692</td>\n",
              "      <td>0.490848</td>\n",
              "      <td>-0.039129</td>\n",
              "      <td>-0.623557</td>\n",
              "      <td>2.256848</td>\n",
              "      <td>-0.261009</td>\n",
              "      <td>-0.154054</td>\n",
              "      <td>-0.766739</td>\n",
              "      <td>0.970170</td>\n",
              "    </tr>\n",
              "  </tbody>\n",
              "</table>\n",
              "<p>216582 rows × 10 columns</p>\n",
              "</div>\n",
              "      <button class=\"colab-df-convert\" onclick=\"convertToInteractive('df-f7a4088d-d0bd-4cb1-938d-eb1f58f55ccb')\"\n",
              "              title=\"Convert this dataframe to an interactive table.\"\n",
              "              style=\"display:none;\">\n",
              "        \n",
              "  <svg xmlns=\"http://www.w3.org/2000/svg\" height=\"24px\"viewBox=\"0 0 24 24\"\n",
              "       width=\"24px\">\n",
              "    <path d=\"M0 0h24v24H0V0z\" fill=\"none\"/>\n",
              "    <path d=\"M18.56 5.44l.94 2.06.94-2.06 2.06-.94-2.06-.94-.94-2.06-.94 2.06-2.06.94zm-11 1L8.5 8.5l.94-2.06 2.06-.94-2.06-.94L8.5 2.5l-.94 2.06-2.06.94zm10 10l.94 2.06.94-2.06 2.06-.94-2.06-.94-.94-2.06-.94 2.06-2.06.94z\"/><path d=\"M17.41 7.96l-1.37-1.37c-.4-.4-.92-.59-1.43-.59-.52 0-1.04.2-1.43.59L10.3 9.45l-7.72 7.72c-.78.78-.78 2.05 0 2.83L4 21.41c.39.39.9.59 1.41.59.51 0 1.02-.2 1.41-.59l7.78-7.78 2.81-2.81c.8-.78.8-2.07 0-2.86zM5.41 20L4 18.59l7.72-7.72 1.47 1.35L5.41 20z\"/>\n",
              "  </svg>\n",
              "      </button>\n",
              "      \n",
              "  <style>\n",
              "    .colab-df-container {\n",
              "      display:flex;\n",
              "      flex-wrap:wrap;\n",
              "      gap: 12px;\n",
              "    }\n",
              "\n",
              "    .colab-df-convert {\n",
              "      background-color: #E8F0FE;\n",
              "      border: none;\n",
              "      border-radius: 50%;\n",
              "      cursor: pointer;\n",
              "      display: none;\n",
              "      fill: #1967D2;\n",
              "      height: 32px;\n",
              "      padding: 0 0 0 0;\n",
              "      width: 32px;\n",
              "    }\n",
              "\n",
              "    .colab-df-convert:hover {\n",
              "      background-color: #E2EBFA;\n",
              "      box-shadow: 0px 1px 2px rgba(60, 64, 67, 0.3), 0px 1px 3px 1px rgba(60, 64, 67, 0.15);\n",
              "      fill: #174EA6;\n",
              "    }\n",
              "\n",
              "    [theme=dark] .colab-df-convert {\n",
              "      background-color: #3B4455;\n",
              "      fill: #D2E3FC;\n",
              "    }\n",
              "\n",
              "    [theme=dark] .colab-df-convert:hover {\n",
              "      background-color: #434B5C;\n",
              "      box-shadow: 0px 1px 3px 1px rgba(0, 0, 0, 0.15);\n",
              "      filter: drop-shadow(0px 1px 2px rgba(0, 0, 0, 0.3));\n",
              "      fill: #FFFFFF;\n",
              "    }\n",
              "  </style>\n",
              "\n",
              "      <script>\n",
              "        const buttonEl =\n",
              "          document.querySelector('#df-f7a4088d-d0bd-4cb1-938d-eb1f58f55ccb button.colab-df-convert');\n",
              "        buttonEl.style.display =\n",
              "          google.colab.kernel.accessAllowed ? 'block' : 'none';\n",
              "\n",
              "        async function convertToInteractive(key) {\n",
              "          const element = document.querySelector('#df-f7a4088d-d0bd-4cb1-938d-eb1f58f55ccb');\n",
              "          const dataTable =\n",
              "            await google.colab.kernel.invokeFunction('convertToInteractive',\n",
              "                                                     [key], {});\n",
              "          if (!dataTable) return;\n",
              "\n",
              "          const docLinkHtml = 'Like what you see? Visit the ' +\n",
              "            '<a target=\"_blank\" href=https://colab.research.google.com/notebooks/data_table.ipynb>data table notebook</a>'\n",
              "            + ' to learn more about interactive tables.';\n",
              "          element.innerHTML = '';\n",
              "          dataTable['output_type'] = 'display_data';\n",
              "          await google.colab.output.renderOutput(dataTable, element);\n",
              "          const docLink = document.createElement('div');\n",
              "          docLink.innerHTML = docLinkHtml;\n",
              "          element.appendChild(docLink);\n",
              "        }\n",
              "      </script>\n",
              "    </div>\n",
              "  </div>\n",
              "  "
            ]
          },
          "metadata": {},
          "execution_count": 36
        }
      ]
    },
    {
      "cell_type": "code",
      "source": [
        "#EDA\n",
        "#co relation matrix\n",
        "import seaborn as sns\n",
        "\n",
        "sns.heatmap(pre_processed_X.corr(), annot=True, fmt='.3f')"
      ],
      "metadata": {
        "execution": {
          "iopub.status.busy": "2022-07-20T18:42:01.547697Z",
          "iopub.execute_input": "2022-07-20T18:42:01.549828Z",
          "iopub.status.idle": "2022-07-20T18:42:02.503942Z",
          "shell.execute_reply.started": "2022-07-20T18:42:01.549714Z",
          "shell.execute_reply": "2022-07-20T18:42:02.502081Z"
        },
        "trusted": true,
        "colab": {
          "base_uri": "https://localhost:8080/",
          "height": 495
        },
        "id": "5BP1YrqY8qdr",
        "outputId": "a9fb9852-aff9-4c9f-a0e2-4cd232c27b5e"
      },
      "execution_count": 37,
      "outputs": [
        {
          "output_type": "execute_result",
          "data": {
            "text/plain": [
              "<matplotlib.axes._subplots.AxesSubplot at 0x7f90700d8fd0>"
            ]
          },
          "metadata": {},
          "execution_count": 37
        },
        {
          "output_type": "display_data",
          "data": {
            "text/plain": [
              "<Figure size 432x288 with 2 Axes>"
            ],
            "image/png": "[encoded data removed]"
          },
          "metadata": {
            "needs_background": "light"
          }
        }
      ]
    },
    {
      "cell_type": "code",
      "source": [
        "#feature importance\n",
        "import matplotlib.pyplot as plt\n",
        "\n",
        "model.fit(pre_processed_X,y_new)\n",
        "name = pre_processed_X.columns\n",
        "values = abs(model.coef_).flatten()\n",
        "\n",
        "plt.bar(name, values, color ='r')\n",
        "plt.xticks(name, name, rotation='vertical')\n",
        "plt.title(\"Feature importances\") \n",
        "plt.xlabel(\"Features\")\n",
        "plt.ylabel(\"Importance\")\n",
        "plt.show()"
      ],
      "metadata": {
        "execution": {
          "iopub.status.busy": "2022-07-20T18:42:02.506081Z",
          "iopub.execute_input": "2022-07-20T18:42:02.506554Z",
          "iopub.status.idle": "2022-07-20T18:42:03.050942Z",
          "shell.execute_reply.started": "2022-07-20T18:42:02.506517Z",
          "shell.execute_reply": "2022-07-20T18:42:03.049641Z"
        },
        "trusted": true,
        "colab": {
          "base_uri": "https://localhost:8080/",
          "height": 559
        },
        "id": "oU3ToJ8x8qdr",
        "outputId": "bdd6154b-bd95-464f-d9e3-a4f93fd54db0"
      },
      "execution_count": 38,
      "outputs": [
        {
          "output_type": "stream",
          "name": "stderr",
          "text": [
            "/usr/local/lib/python3.7/dist-packages/sklearn/utils/validation.py:993: DataConversionWarning: A column-vector y was passed when a 1d array was expected. Please change the shape of y to (n_samples, ), for example using ravel().\n",
            "  y = column_or_1d(y, warn=True)\n"
          ]
        },
        {
          "output_type": "display_data",
          "data": {
            "text/plain": [
              "<Figure size 432x288 with 1 Axes>"
            ],
            "image/png": "[encoded data removed]"
          },
          "metadata": {
            "needs_background": "light"
          }
        }
      ]
    },
    {
      "cell_type": "code",
      "source": [
        "#feature engineering\n",
        "def feature_engineering(X):\n",
        "    eng_X = X.copy()\n",
        "    eng_X['Weighted_Sum_PastDue'] = 2 * eng_X['NumberOfTime30-59DaysPastDueNotWorse'] + 3 * eng_X['NumberOfTime60-89DaysPastDueNotWorse'] + 6 * eng_X['NumberOfTimes90DaysLate']\n",
        "\n",
        "    eng_X['90days_out_of_TotalPastDue'] = eng_X['NumberOfTimes90DaysLate'] / (eng_X['Weighted_Sum_PastDue'])\n",
        "    eng_X.loc[eng_X['Weighted_Sum_PastDue']==0, '90days_out_of_TotalPastDue'] = 0\n",
        "\n",
        "    eng_X['RevolvingUtilization_per_age'] = eng_X['RevolvingUtilizationOfUnsecuredLines'] / (eng_X['age']+1)\n",
        "    return eng_X\n",
        "\n",
        "eng_X = feature_engineering(X)"
      ],
      "metadata": {
        "execution": {
          "iopub.status.busy": "2022-07-20T18:42:03.052296Z",
          "iopub.execute_input": "2022-07-20T18:42:03.052613Z",
          "iopub.status.idle": "2022-07-20T18:42:03.059903Z",
          "shell.execute_reply.started": "2022-07-20T18:42:03.052585Z",
          "shell.execute_reply": "2022-07-20T18:42:03.058577Z"
        },
        "trusted": true,
        "id": "s_MwMq5T8qds"
      },
      "execution_count": 39,
      "outputs": []
    },
    {
      "cell_type": "code",
      "source": [
        "#building pre processing line that can handle new features\n",
        "cols_without_missing_after = cols_without_missing + ['Weighted_Sum_PastDue','90days_out_of_TotalPastDue','RevolvingUtilization_per_age']\n",
        "handle_missing_new = ColumnTransformer([('monthly_inc',monthly_inc_trans,['MonthlyIncome']),('dependent',dependent_trans,['NumberOfDependents']),('same',monthly_inc_trans,cols_without_missing_after)])\n",
        "\n",
        "pre_process_new = ibPipeline([('handle_missing',handle_missing_new),('smote',smote),('log1p', log_trans),('ss', StandardScaler())])"
      ],
      "metadata": {
        "execution": {
          "iopub.status.busy": "2022-07-20T18:42:03.061572Z",
          "iopub.execute_input": "2022-07-20T18:42:03.061923Z",
          "iopub.status.idle": "2022-07-20T18:42:03.070873Z",
          "shell.execute_reply.started": "2022-07-20T18:42:03.061892Z",
          "shell.execute_reply": "2022-07-20T18:42:03.069562Z"
        },
        "trusted": true,
        "id": "Q41_2Xq28qds"
      },
      "execution_count": 40,
      "outputs": []
    },
    {
      "cell_type": "code",
      "source": [
        "#score after feature engineering\n",
        "my_pipe =  ibPipeline([('handle_missing',handle_missing_new),('smote',smote),('log1p', log_trans),('ss', StandardScaler()),('model', model)])\n",
        "score(my_pipe,eng_X,y)"
      ],
      "metadata": {
        "execution": {
          "iopub.status.busy": "2022-07-20T18:42:03.072410Z",
          "iopub.execute_input": "2022-07-20T18:42:03.073526Z",
          "iopub.status.idle": "2022-07-20T18:42:05.193520Z",
          "shell.execute_reply.started": "2022-07-20T18:42:03.073454Z",
          "shell.execute_reply": "2022-07-20T18:42:05.192092Z"
        },
        "trusted": true,
        "colab": {
          "base_uri": "https://localhost:8080/"
        },
        "id": "qoyw9oNF8qds",
        "outputId": "727e4770-3e0a-4464-de58-193d943ce0e1"
      },
      "execution_count": 57,
      "outputs": [
        {
          "output_type": "execute_result",
          "data": {
            "text/plain": [
              "[0.3602567814025318,\n",
              " 0.5050874807000445,\n",
              " 0.4203196265855921,\n",
              " 0.8443778286146157]"
            ]
          },
          "metadata": {},
          "execution_count": 57
        }
      ]
    },
    {
      "cell_type": "code",
      "source": [
        "cv_new = StratifiedKFold(n_splits = 3, shuffle=True, random_state=0)\n",
        "def score_new(pipe, X,y):\n",
        "    r = cross_validate(pipe,X,y,cv=cv_new,scoring = 'f1',n_jobs = -1)\n",
        "    return r['test_score'].mean()"
      ],
      "metadata": {
        "id": "BT7u0gijN5Ht"
      },
      "execution_count": 64,
      "outputs": []
    },
    {
      "cell_type": "code",
      "source": [
        "from imblearn.under_sampling import CondensedNearestNeighbour\n",
        "from imblearn.under_sampling import EditedNearestNeighbours\n",
        "from imblearn.under_sampling import RepeatedEditedNearestNeighbours\n",
        "from imblearn.under_sampling import AllKNN\n",
        "from imblearn.under_sampling import InstanceHardnessThreshold\n",
        "from imblearn.under_sampling import NearMiss\n",
        "from imblearn.under_sampling import NeighbourhoodCleaningRule\n",
        "from imblearn.under_sampling import OneSidedSelection\n",
        "from imblearn.under_sampling import RandomUnderSampler\n",
        "from imblearn.under_sampling import TomekLinks"
      ],
      "metadata": {
        "id": "nQK3KQKoKEgA"
      },
      "execution_count": 65,
      "outputs": []
    },
    {
      "cell_type": "code",
      "source": [
        "CNN = CondensedNearestNeighbour()\n",
        "ENN = EditedNearestNeighbours()\n",
        "RENN = RepeatedEditedNearestNeighbours()\n",
        "AKNN = AllKNN()\n",
        "IHT = InstanceHardnessThreshold()\n",
        "NM = NearMiss()\n",
        "NCR = NeighbourhoodCleaningRule()\n",
        "OSS = OneSidedSelection()\n",
        "RUS = RandomUnderSampler()\n",
        "TL = TomekLinks()"
      ],
      "metadata": {
        "id": "PjiF2BlqKthe"
      },
      "execution_count": 66,
      "outputs": []
    },
    {
      "cell_type": "code",
      "source": [
        "#f1 score still not good so we will try different under sampling and oversampling techniques\n",
        "model = GaussianNB()\n",
        "samples = [NCR,OSS,RUS,TL,NM,ENN,RENN,AKNN]\n",
        "scores =[]\n",
        "for sample in samples:\n",
        "    pipe = ibPipeline([('handle_missing',handle_missing_new),('smple',sample),('log1p', log_trans),('ss', StandardScaler()),('model', model)])\n",
        "    t = score_new(pipe, eng_X, y)\n",
        "    print(t)\n",
        "    scores.append(t)"
      ],
      "metadata": {
        "colab": {
          "base_uri": "https://localhost:8080/"
        },
        "id": "b1OqBufCH8dn",
        "outputId": "300aeb13-ed83-4749-a7ee-f92f9f2fb817"
      },
      "execution_count": 68,
      "outputs": [
        {
          "output_type": "stream",
          "name": "stdout",
          "text": [
            "0.41117335306199165\n",
            "0.4227129894037125\n",
            "0.4144166352931462\n",
            "0.4227129894037125\n",
            "0.2147988423133579\n",
            "0.41346814984820823\n",
            "0.4099730050322985\n",
            "0.41163231904547887\n"
          ]
        }
      ]
    },
    {
      "cell_type": "code",
      "source": [
        "from imblearn.over_sampling import SMOTE\n",
        "from imblearn.over_sampling import SMOTENC\n",
        "from imblearn.over_sampling import SMOTEN\n",
        "from imblearn.over_sampling import ADASYN\n",
        "from imblearn.over_sampling import BorderlineSMOTE\n",
        "from imblearn.over_sampling import KMeansSMOTE\n",
        "from imblearn.over_sampling import SVMSMOTE\n",
        "from imblearn.combine import SMOTEENN\n",
        "from imblearn.combine import SMOTETomek"
      ],
      "metadata": {
        "id": "Ce0sYXYAfRf3"
      },
      "execution_count": 73,
      "outputs": []
    },
    {
      "cell_type": "code",
      "source": [
        "S = SMOTE()\n",
        "SN = SMOTEN()\n",
        "A = ADASYN()\n",
        "B = BorderlineSMOTE()\n",
        "K = KMeansSMOTE()\n",
        "SS = SVMSMOTE()\n",
        "SEN = SMOTEENN()\n",
        "ST = SMOTETomek()"
      ],
      "metadata": {
        "id": "vDZbXoRbfb74"
      },
      "execution_count": 75,
      "outputs": []
    },
    {
      "cell_type": "code",
      "source": [
        "model = GaussianNB()\n",
        "samples = [S,SN,A,B,SEN,ST]\n",
        "scores =[]\n",
        "for sample in samples:\n",
        "    pipe = ibPipeline([('handle_missing',handle_missing_new),('smple',sample),('log1p', log_trans),('ss', StandardScaler()),('model', model)])\n",
        "    t = score_new(pipe, eng_X, y)\n",
        "    print(t)\n",
        "    scores.append(t)"
      ],
      "metadata": {
        "colab": {
          "base_uri": "https://localhost:8080/"
        },
        "id": "fDJL6MxOfcCu",
        "outputId": "e0c9cec8-e7a3-42ac-a8ce-68aead14a448"
      },
      "execution_count": 77,
      "outputs": [
        {
          "output_type": "stream",
          "name": "stdout",
          "text": [
            "0.4089636517576965\n"
          ]
        },
        {
          "output_type": "stream",
          "name": "stderr",
          "text": [
            "/usr/local/lib/python3.7/dist-packages/joblib/externals/loky/process_executor.py:705: UserWarning: A worker stopped while some jobs were given to the executor. This can be caused by a too short worker timeout or by a memory leak.\n",
            "  \"timeout or by a memory leak.\", UserWarning\n"
          ]
        },
        {
          "output_type": "stream",
          "name": "stdout",
          "text": [
            "0.38886404653330375\n",
            "0.40559643914416726\n",
            "0.41052519047881947\n",
            "0.40459241249984057\n",
            "0.40811309879563096\n"
          ]
        }
      ]
    },
    {
      "cell_type": "code",
      "source": [
        "# hyper parameter optimization using GScv\n",
        "from sklearn.model_selection import GridSearchCV"
      ],
      "metadata": {
        "execution": {
          "iopub.status.busy": "2022-07-20T18:42:05.195349Z",
          "iopub.execute_input": "2022-07-20T18:42:05.196295Z",
          "iopub.status.idle": "2022-07-20T18:42:05.202976Z",
          "shell.execute_reply.started": "2022-07-20T18:42:05.196251Z",
          "shell.execute_reply": "2022-07-20T18:42:05.200568Z"
        },
        "trusted": true,
        "id": "8kbntiyQ8qds"
      },
      "execution_count": 79,
      "outputs": []
    },
    {
      "cell_type": "code",
      "source": [
        "resample = BorderlineSMOTE()"
      ],
      "metadata": {
        "id": "Pk8xXWfElQCW"
      },
      "execution_count": 102,
      "outputs": []
    },
    {
      "cell_type": "code",
      "source": [
        "#logistic regression\n",
        "LR = LogisticRegression() \n",
        "pipe = ibPipeline([('handle_missing',handle_missing_new),('resample',resample),('log1p', log_trans),('ss', StandardScaler()),('LR',LR)])\n",
        "\n",
        "param_grid = {'LR__C': [3]}\n",
        "\n",
        "search = GridSearchCV(pipe, param_grid, cv=cv, n_jobs = -1,scoring = 'f1')\n",
        "\n",
        "search.fit(eng_X,y)\n",
        "search.best_params_"
      ],
      "metadata": {
        "execution": {
          "iopub.status.busy": "2022-07-20T18:42:05.205623Z",
          "iopub.execute_input": "2022-07-20T18:42:05.206361Z",
          "iopub.status.idle": "2022-07-20T18:42:11.983678Z",
          "shell.execute_reply.started": "2022-07-20T18:42:05.206296Z",
          "shell.execute_reply": "2022-07-20T18:42:11.982390Z"
        },
        "trusted": true,
        "colab": {
          "base_uri": "https://localhost:8080/"
        },
        "id": "QKTONhtg8qdt",
        "outputId": "6539996f-8e8b-4676-ef22-e80a836ea371"
      },
      "execution_count": 98,
      "outputs": [
        {
          "output_type": "execute_result",
          "data": {
            "text/plain": [
              "{'LR__C': 3}"
            ]
          },
          "metadata": {},
          "execution_count": 98
        }
      ]
    },
    {
      "cell_type": "code",
      "source": [
        "#Gaussian NB\n",
        "GNB = GaussianNB() \n",
        "pipe = ibPipeline([('handle_missing',handle_missing_new),('resample',resample),('log1p', log_trans),('ss', StandardScaler()),('GNB',GNB)])\n",
        "\n",
        "param_grid = {'GNB__var_smoothing': np.logspace(0,-9, num=5)}\n",
        "\n",
        "search = GridSearchCV(pipe, param_grid, cv=cv, n_jobs = -1,scoring = 'f1')\n",
        "\n",
        "search.fit(eng_X,y)\n",
        "search.best_params_"
      ],
      "metadata": {
        "execution": {
          "iopub.status.busy": "2022-07-20T18:42:11.985667Z",
          "iopub.execute_input": "2022-07-20T18:42:11.986959Z",
          "iopub.status.idle": "2022-07-20T18:42:28.471847Z",
          "shell.execute_reply.started": "2022-07-20T18:42:11.986900Z",
          "shell.execute_reply": "2022-07-20T18:42:28.470318Z"
        },
        "trusted": true,
        "colab": {
          "base_uri": "https://localhost:8080/"
        },
        "id": "UJkAYmAT8qdt",
        "outputId": "4a52bd41-b413-4fba-9ef1-b82544dfb94b"
      },
      "execution_count": 100,
      "outputs": [
        {
          "output_type": "execute_result",
          "data": {
            "text/plain": [
              "{'GNB__var_smoothing': 1.0}"
            ]
          },
          "metadata": {},
          "execution_count": 100
        }
      ]
    },
    {
      "cell_type": "code",
      "source": [
        "#Random Forest\n",
        "RF = RandomForestClassifier()\n",
        "pipe = ibPipeline([('handle_missing',handle_missing_new),('resample',resample),('log1p', log_trans),('ss', StandardScaler()),('RF',RF)])\n",
        "\n",
        "param_grid = {'RF__max_depth' : [8],'RF__criterion' :['entropy'],'RF__max_features': ['log2']}\n",
        "\n",
        "search = GridSearchCV(pipe, param_grid, cv=cv, n_jobs = -1,scoring = 'f1')\n",
        "\n",
        "search.fit(eng_X,y)\n",
        "search.best_params_"
      ],
      "metadata": {
        "execution": {
          "iopub.status.busy": "2022-07-20T18:42:28.474138Z",
          "iopub.execute_input": "2022-07-20T18:42:28.474995Z",
          "iopub.status.idle": "2022-07-20T18:45:54.111019Z",
          "shell.execute_reply.started": "2022-07-20T18:42:28.474949Z",
          "shell.execute_reply": "2022-07-20T18:45:54.108827Z"
        },
        "trusted": true,
        "colab": {
          "base_uri": "https://localhost:8080/"
        },
        "id": "yY6norS58qdt",
        "outputId": "3e91ad37-51f7-4b7d-b1d0-b05425cf8921"
      },
      "execution_count": 103,
      "outputs": [
        {
          "output_type": "execute_result",
          "data": {
            "text/plain": [
              "{'RF__criterion': 'entropy', 'RF__max_depth': 8, 'RF__max_features': 'log2'}"
            ]
          },
          "metadata": {},
          "execution_count": 103
        }
      ]
    },
    {
      "cell_type": "code",
      "source": [
        "#XGBoost\n",
        "XGB = XGBClassifier()\n",
        "pipe = ibPipeline([('handle_missing',handle_missing_new),('resample',resample),('log1p', log_trans),('ss', StandardScaler()),('XGB',XGB)])\n",
        "\n",
        "param_grid = {'XGB__max_depth':[3],\n",
        "              'XGB__eta':[0.7],\n",
        "              'XGB__gamma': [1.1]}\n",
        "\n",
        "search = GridSearchCV(pipe, param_grid, cv=cv, n_jobs = -1,scoring = 'f1')\n",
        "\n",
        "search.fit(eng_X,y)\n",
        "search.best_params_"
      ],
      "metadata": {
        "execution": {
          "iopub.status.busy": "2022-07-20T18:45:54.113795Z",
          "iopub.execute_input": "2022-07-20T18:45:54.114365Z",
          "iopub.status.idle": "2022-07-20T18:46:31.230692Z",
          "shell.execute_reply.started": "2022-07-20T18:45:54.114321Z",
          "shell.execute_reply": "2022-07-20T18:46:31.228588Z"
        },
        "trusted": true,
        "colab": {
          "base_uri": "https://localhost:8080/"
        },
        "id": "MmSA8nSh8qdt",
        "outputId": "196d0be8-4ef2-46ee-9859-6e04cdceb056"
      },
      "execution_count": 123,
      "outputs": [
        {
          "output_type": "execute_result",
          "data": {
            "text/plain": [
              "{'XGB__eta': 0.7, 'XGB__gamma': 1.1, 'XGB__max_depth': 3}"
            ]
          },
          "metadata": {},
          "execution_count": 123
        }
      ]
    },
    {
      "cell_type": "code",
      "source": [
        "lr = LogisticRegression(C = 3)\n",
        "gnb = GaussianNB(var_smoothing = 1)\n",
        "rf = RandomForestClassifier(n_estimators = 100, max_features= 'log2', max_depth=3,criterion = 'entropy' )\n",
        "xgb = XGBClassifier(eta = 0.7, gamma = 1.1, max_depth = 3)"
      ],
      "metadata": {
        "execution": {
          "iopub.status.busy": "2022-07-20T18:46:31.233189Z",
          "iopub.execute_input": "2022-07-20T18:46:31.233776Z",
          "iopub.status.idle": "2022-07-20T18:46:31.242751Z",
          "shell.execute_reply.started": "2022-07-20T18:46:31.233728Z",
          "shell.execute_reply": "2022-07-20T18:46:31.240960Z"
        },
        "trusted": true,
        "id": "HPdgko468qdu"
      },
      "execution_count": 124,
      "outputs": []
    },
    {
      "cell_type": "code",
      "source": [
        "models = [lr, gnb, rf, xgb]\n",
        "scores =[]\n",
        "for model in models:\n",
        "    pipe = ibPipeline([('handle_missing',handle_missing_new),('resample',resample),('log1p', log_trans),('ss', StandardScaler()),('model', model)])\n",
        "    scores.append(score(pipe, eng_X, y))"
      ],
      "metadata": {
        "execution": {
          "iopub.status.busy": "2022-07-20T18:46:31.245015Z",
          "iopub.execute_input": "2022-07-20T18:46:31.246528Z",
          "iopub.status.idle": "2022-07-20T18:48:51.965463Z",
          "shell.execute_reply.started": "2022-07-20T18:46:31.246468Z",
          "shell.execute_reply": "2022-07-20T18:48:51.964399Z"
        },
        "trusted": true,
        "id": "d5BtMy2H8qdu"
      },
      "execution_count": 125,
      "outputs": []
    },
    {
      "cell_type": "code",
      "source": [
        "Final_results = pd.DataFrame({'LR':scores[0],'GNB':scores[1],'RF':scores[2],'XGB':scores[3]},index = ['precision','recall','F1','ROC AUC'])\n",
        "Final_results"
      ],
      "metadata": {
        "execution": {
          "iopub.status.busy": "2022-07-20T18:48:51.967718Z",
          "iopub.execute_input": "2022-07-20T18:48:51.968594Z",
          "iopub.status.idle": "2022-07-20T18:48:51.987347Z",
          "shell.execute_reply.started": "2022-07-20T18:48:51.968538Z",
          "shell.execute_reply": "2022-07-20T18:48:51.986103Z"
        },
        "trusted": true,
        "colab": {
          "base_uri": "https://localhost:8080/",
          "height": 175
        },
        "id": "LEEiVCHT8qdu",
        "outputId": "ee9b1bb3-0efb-4c05-e3a2-89cc1a8ced3a"
      },
      "execution_count": 126,
      "outputs": [
        {
          "output_type": "execute_result",
          "data": {
            "text/plain": [
              "                 LR       GNB        RF       XGB\n",
              "precision  0.251437  0.375667  0.270533  0.443177\n",
              "recall     0.670159  0.481150  0.633653  0.392678\n",
              "F1         0.365647  0.421868  0.379149  0.416376\n",
              "ROC AUC    0.854308  0.835796  0.848157  0.855260"
            ],
            "text/html": [
              "\n",
              "  <div id=\"df-1efdba32-a6b2-46bf-a046-331e705fd029\">\n",
              "    <div class=\"colab-df-container\">\n",
              "      <div>\n",
              "<style scoped>\n",
              "    .dataframe tbody tr th:only-of-type {\n",
              "        vertical-align: middle;\n",
              "    }\n",
              "\n",
              "    .dataframe tbody tr th {\n",
              "        vertical-align: top;\n",
              "    }\n",
              "\n",
              "    .dataframe thead th {\n",
              "        text-align: right;\n",
              "    }\n",
              "</style>\n",
              "<table border=\"1\" class=\"dataframe\">\n",
              "  <thead>\n",
              "    <tr style=\"text-align: right;\">\n",
              "      <th></th>\n",
              "      <th>LR</th>\n",
              "      <th>GNB</th>\n",
              "      <th>RF</th>\n",
              "      <th>XGB</th>\n",
              "    </tr>\n",
              "  </thead>\n",
              "  <tbody>\n",
              "    <tr>\n",
              "      <th>precision</th>\n",
              "      <td>0.251437</td>\n",
              "      <td>0.375667</td>\n",
              "      <td>0.270533</td>\n",
              "      <td>0.443177</td>\n",
              "    </tr>\n",
              "    <tr>\n",
              "      <th>recall</th>\n",
              "      <td>0.670159</td>\n",
              "      <td>0.481150</td>\n",
              "      <td>0.633653</td>\n",
              "      <td>0.392678</td>\n",
              "    </tr>\n",
              "    <tr>\n",
              "      <th>F1</th>\n",
              "      <td>0.365647</td>\n",
              "      <td>0.421868</td>\n",
              "      <td>0.379149</td>\n",
              "      <td>0.416376</td>\n",
              "    </tr>\n",
              "    <tr>\n",
              "      <th>ROC AUC</th>\n",
              "      <td>0.854308</td>\n",
              "      <td>0.835796</td>\n",
              "      <td>0.848157</td>\n",
              "      <td>0.855260</td>\n",
              "    </tr>\n",
              "  </tbody>\n",
              "</table>\n",
              "</div>\n",
              "      <button class=\"colab-df-convert\" onclick=\"convertToInteractive('df-1efdba32-a6b2-46bf-a046-331e705fd029')\"\n",
              "              title=\"Convert this dataframe to an interactive table.\"\n",
              "              style=\"display:none;\">\n",
              "        \n",
              "  <svg xmlns=\"http://www.w3.org/2000/svg\" height=\"24px\"viewBox=\"0 0 24 24\"\n",
              "       width=\"24px\">\n",
              "    <path d=\"M0 0h24v24H0V0z\" fill=\"none\"/>\n",
              "    <path d=\"M18.56 5.44l.94 2.06.94-2.06 2.06-.94-2.06-.94-.94-2.06-.94 2.06-2.06.94zm-11 1L8.5 8.5l.94-2.06 2.06-.94-2.06-.94L8.5 2.5l-.94 2.06-2.06.94zm10 10l.94 2.06.94-2.06 2.06-.94-2.06-.94-.94-2.06-.94 2.06-2.06.94z\"/><path d=\"M17.41 7.96l-1.37-1.37c-.4-.4-.92-.59-1.43-.59-.52 0-1.04.2-1.43.59L10.3 9.45l-7.72 7.72c-.78.78-.78 2.05 0 2.83L4 21.41c.39.39.9.59 1.41.59.51 0 1.02-.2 1.41-.59l7.78-7.78 2.81-2.81c.8-.78.8-2.07 0-2.86zM5.41 20L4 18.59l7.72-7.72 1.47 1.35L5.41 20z\"/>\n",
              "  </svg>\n",
              "      </button>\n",
              "      \n",
              "  <style>\n",
              "    .colab-df-container {\n",
              "      display:flex;\n",
              "      flex-wrap:wrap;\n",
              "      gap: 12px;\n",
              "    }\n",
              "\n",
              "    .colab-df-convert {\n",
              "      background-color: #E8F0FE;\n",
              "      border: none;\n",
              "      border-radius: 50%;\n",
              "      cursor: pointer;\n",
              "      display: none;\n",
              "      fill: #1967D2;\n",
              "      height: 32px;\n",
              "      padding: 0 0 0 0;\n",
              "      width: 32px;\n",
              "    }\n",
              "\n",
              "    .colab-df-convert:hover {\n",
              "      background-color: #E2EBFA;\n",
              "      box-shadow: 0px 1px 2px rgba(60, 64, 67, 0.3), 0px 1px 3px 1px rgba(60, 64, 67, 0.15);\n",
              "      fill: #174EA6;\n",
              "    }\n",
              "\n",
              "    [theme=dark] .colab-df-convert {\n",
              "      background-color: #3B4455;\n",
              "      fill: #D2E3FC;\n",
              "    }\n",
              "\n",
              "    [theme=dark] .colab-df-convert:hover {\n",
              "      background-color: #434B5C;\n",
              "      box-shadow: 0px 1px 3px 1px rgba(0, 0, 0, 0.15);\n",
              "      filter: drop-shadow(0px 1px 2px rgba(0, 0, 0, 0.3));\n",
              "      fill: #FFFFFF;\n",
              "    }\n",
              "  </style>\n",
              "\n",
              "      <script>\n",
              "        const buttonEl =\n",
              "          document.querySelector('#df-1efdba32-a6b2-46bf-a046-331e705fd029 button.colab-df-convert');\n",
              "        buttonEl.style.display =\n",
              "          google.colab.kernel.accessAllowed ? 'block' : 'none';\n",
              "\n",
              "        async function convertToInteractive(key) {\n",
              "          const element = document.querySelector('#df-1efdba32-a6b2-46bf-a046-331e705fd029');\n",
              "          const dataTable =\n",
              "            await google.colab.kernel.invokeFunction('convertToInteractive',\n",
              "                                                     [key], {});\n",
              "          if (!dataTable) return;\n",
              "\n",
              "          const docLinkHtml = 'Like what you see? Visit the ' +\n",
              "            '<a target=\"_blank\" href=https://colab.research.google.com/notebooks/data_table.ipynb>data table notebook</a>'\n",
              "            + ' to learn more about interactive tables.';\n",
              "          element.innerHTML = '';\n",
              "          dataTable['output_type'] = 'display_data';\n",
              "          await google.colab.output.renderOutput(dataTable, element);\n",
              "          const docLink = document.createElement('div');\n",
              "          docLink.innerHTML = docLinkHtml;\n",
              "          element.appendChild(docLink);\n",
              "        }\n",
              "      </script>\n",
              "    </div>\n",
              "  </div>\n",
              "  "
            ]
          },
          "metadata": {},
          "execution_count": 126
        }
      ]
    },
    {
      "cell_type": "code",
      "source": [
        "import pickle\n",
        "Baseline_results = pickle.load(open(\"BaselineResults\",'rb'))\n",
        "Baseline_results.index = ['precision','recall','F1','ROC AUC']\n",
        "Baseline_results"
      ],
      "metadata": {
        "execution": {
          "iopub.status.busy": "2022-07-20T18:48:51.988687Z",
          "iopub.execute_input": "2022-07-20T18:48:51.990196Z",
          "iopub.status.idle": "2022-07-20T18:48:52.012704Z",
          "shell.execute_reply.started": "2022-07-20T18:48:51.990149Z",
          "shell.execute_reply": "2022-07-20T18:48:52.011735Z"
        },
        "trusted": true,
        "colab": {
          "base_uri": "https://localhost:8080/",
          "height": 175
        },
        "id": "bd3TqsNQ8qdu",
        "outputId": "c38319ef-6911-4f0d-d220-1e2f6a766abf"
      },
      "execution_count": 127,
      "outputs": [
        {
          "output_type": "execute_result",
          "data": {
            "text/plain": [
              "                 LR       GNB        RF       XGB\n",
              "precision  0.527705  0.385897  0.524499  0.597193\n",
              "recall     0.038100  0.024237  0.193996  0.186217\n",
              "F1         0.070774  0.045575  0.283196  0.283789\n",
              "ROC AUC    0.690390  0.712741  0.831798  0.863633"
            ],
            "text/html": [
              "\n",
              "  <div id=\"df-a8a3987e-16b0-43ec-ad10-d1be1772b783\">\n",
              "    <div class=\"colab-df-container\">\n",
              "      <div>\n",
              "<style scoped>\n",
              "    .dataframe tbody tr th:only-of-type {\n",
              "        vertical-align: middle;\n",
              "    }\n",
              "\n",
              "    .dataframe tbody tr th {\n",
              "        vertical-align: top;\n",
              "    }\n",
              "\n",
              "    .dataframe thead th {\n",
              "        text-align: right;\n",
              "    }\n",
              "</style>\n",
              "<table border=\"1\" class=\"dataframe\">\n",
              "  <thead>\n",
              "    <tr style=\"text-align: right;\">\n",
              "      <th></th>\n",
              "      <th>LR</th>\n",
              "      <th>GNB</th>\n",
              "      <th>RF</th>\n",
              "      <th>XGB</th>\n",
              "    </tr>\n",
              "  </thead>\n",
              "  <tbody>\n",
              "    <tr>\n",
              "      <th>precision</th>\n",
              "      <td>0.527705</td>\n",
              "      <td>0.385897</td>\n",
              "      <td>0.524499</td>\n",
              "      <td>0.597193</td>\n",
              "    </tr>\n",
              "    <tr>\n",
              "      <th>recall</th>\n",
              "      <td>0.038100</td>\n",
              "      <td>0.024237</td>\n",
              "      <td>0.193996</td>\n",
              "      <td>0.186217</td>\n",
              "    </tr>\n",
              "    <tr>\n",
              "      <th>F1</th>\n",
              "      <td>0.070774</td>\n",
              "      <td>0.045575</td>\n",
              "      <td>0.283196</td>\n",
              "      <td>0.283789</td>\n",
              "    </tr>\n",
              "    <tr>\n",
              "      <th>ROC AUC</th>\n",
              "      <td>0.690390</td>\n",
              "      <td>0.712741</td>\n",
              "      <td>0.831798</td>\n",
              "      <td>0.863633</td>\n",
              "    </tr>\n",
              "  </tbody>\n",
              "</table>\n",
              "</div>\n",
              "      <button class=\"colab-df-convert\" onclick=\"convertToInteractive('df-a8a3987e-16b0-43ec-ad10-d1be1772b783')\"\n",
              "              title=\"Convert this dataframe to an interactive table.\"\n",
              "              style=\"display:none;\">\n",
              "        \n",
              "  <svg xmlns=\"http://www.w3.org/2000/svg\" height=\"24px\"viewBox=\"0 0 24 24\"\n",
              "       width=\"24px\">\n",
              "    <path d=\"M0 0h24v24H0V0z\" fill=\"none\"/>\n",
              "    <path d=\"M18.56 5.44l.94 2.06.94-2.06 2.06-.94-2.06-.94-.94-2.06-.94 2.06-2.06.94zm-11 1L8.5 8.5l.94-2.06 2.06-.94-2.06-.94L8.5 2.5l-.94 2.06-2.06.94zm10 10l.94 2.06.94-2.06 2.06-.94-2.06-.94-.94-2.06-.94 2.06-2.06.94z\"/><path d=\"M17.41 7.96l-1.37-1.37c-.4-.4-.92-.59-1.43-.59-.52 0-1.04.2-1.43.59L10.3 9.45l-7.72 7.72c-.78.78-.78 2.05 0 2.83L4 21.41c.39.39.9.59 1.41.59.51 0 1.02-.2 1.41-.59l7.78-7.78 2.81-2.81c.8-.78.8-2.07 0-2.86zM5.41 20L4 18.59l7.72-7.72 1.47 1.35L5.41 20z\"/>\n",
              "  </svg>\n",
              "      </button>\n",
              "      \n",
              "  <style>\n",
              "    .colab-df-container {\n",
              "      display:flex;\n",
              "      flex-wrap:wrap;\n",
              "      gap: 12px;\n",
              "    }\n",
              "\n",
              "    .colab-df-convert {\n",
              "      background-color: #E8F0FE;\n",
              "      border: none;\n",
              "      border-radius: 50%;\n",
              "      cursor: pointer;\n",
              "      display: none;\n",
              "      fill: #1967D2;\n",
              "      height: 32px;\n",
              "      padding: 0 0 0 0;\n",
              "      width: 32px;\n",
              "    }\n",
              "\n",
              "    .colab-df-convert:hover {\n",
              "      background-color: #E2EBFA;\n",
              "      box-shadow: 0px 1px 2px rgba(60, 64, 67, 0.3), 0px 1px 3px 1px rgba(60, 64, 67, 0.15);\n",
              "      fill: #174EA6;\n",
              "    }\n",
              "\n",
              "    [theme=dark] .colab-df-convert {\n",
              "      background-color: #3B4455;\n",
              "      fill: #D2E3FC;\n",
              "    }\n",
              "\n",
              "    [theme=dark] .colab-df-convert:hover {\n",
              "      background-color: #434B5C;\n",
              "      box-shadow: 0px 1px 3px 1px rgba(0, 0, 0, 0.15);\n",
              "      filter: drop-shadow(0px 1px 2px rgba(0, 0, 0, 0.3));\n",
              "      fill: #FFFFFF;\n",
              "    }\n",
              "  </style>\n",
              "\n",
              "      <script>\n",
              "        const buttonEl =\n",
              "          document.querySelector('#df-a8a3987e-16b0-43ec-ad10-d1be1772b783 button.colab-df-convert');\n",
              "        buttonEl.style.display =\n",
              "          google.colab.kernel.accessAllowed ? 'block' : 'none';\n",
              "\n",
              "        async function convertToInteractive(key) {\n",
              "          const element = document.querySelector('#df-a8a3987e-16b0-43ec-ad10-d1be1772b783');\n",
              "          const dataTable =\n",
              "            await google.colab.kernel.invokeFunction('convertToInteractive',\n",
              "                                                     [key], {});\n",
              "          if (!dataTable) return;\n",
              "\n",
              "          const docLinkHtml = 'Like what you see? Visit the ' +\n",
              "            '<a target=\"_blank\" href=https://colab.research.google.com/notebooks/data_table.ipynb>data table notebook</a>'\n",
              "            + ' to learn more about interactive tables.';\n",
              "          element.innerHTML = '';\n",
              "          dataTable['output_type'] = 'display_data';\n",
              "          await google.colab.output.renderOutput(dataTable, element);\n",
              "          const docLink = document.createElement('div');\n",
              "          docLink.innerHTML = docLinkHtml;\n",
              "          element.appendChild(docLink);\n",
              "        }\n",
              "      </script>\n",
              "    </div>\n",
              "  </div>\n",
              "  "
            ]
          },
          "metadata": {},
          "execution_count": 127
        }
      ]
    },
    {
      "cell_type": "code",
      "source": [
        "#improvement in results\n",
        "improvement = Final_results - Baseline_results\n",
        "sns.heatmap(improvement, annot=True, fmt='.3f')"
      ],
      "metadata": {
        "execution": {
          "iopub.status.busy": "2022-07-20T18:48:52.015231Z",
          "iopub.execute_input": "2022-07-20T18:48:52.016535Z",
          "iopub.status.idle": "2022-07-20T18:48:52.318417Z",
          "shell.execute_reply.started": "2022-07-20T18:48:52.016480Z",
          "shell.execute_reply": "2022-07-20T18:48:52.316605Z"
        },
        "trusted": true,
        "colab": {
          "base_uri": "https://localhost:8080/",
          "height": 282
        },
        "id": "Wx-Mo2Nv8qdu",
        "outputId": "570f3314-7ec2-40c8-f371-a6d53a69f74f"
      },
      "execution_count": 129,
      "outputs": [
        {
          "output_type": "execute_result",
          "data": {
            "text/plain": [
              "<matplotlib.axes._subplots.AxesSubplot at 0x7f906da283d0>"
            ]
          },
          "metadata": {},
          "execution_count": 129
        },
        {
          "output_type": "display_data",
          "data": {
            "text/plain": [
              "<Figure size 432x288 with 2 Axes>"
            ],
            "image/png": "[encoded data removed]"
          },
          "metadata": {
            "needs_background": "light"
          }
        }
      ]
    }
  ]
}